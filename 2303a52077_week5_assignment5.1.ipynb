{
  "nbformat": 4,
  "nbformat_minor": 0,
  "metadata": {
    "colab": {
      "provenance": [],
      "authorship_tag": "ABX9TyMf3Di4QRqCZaM6N7jgvXKo",
      "include_colab_link": true
    },
    "kernelspec": {
      "name": "python3",
      "display_name": "Python 3"
    },
    "language_info": {
      "name": "python"
    }
  },
  "cells": [
    {
      "cell_type": "markdown",
      "metadata": {
        "id": "view-in-github",
        "colab_type": "text"
      },
      "source": [
        "<a href=\"https://colab.research.google.com/github/VISHAL2077/Generative_AI_2025/blob/main/2303a52077_week5_assignment5.1.ipynb\" target=\"_parent\"><img src=\"https://colab.research.google.com/assets/colab-badge.svg\" alt=\"Open In Colab\"/></a>"
      ]
    },
    {
      "cell_type": "code",
      "source": [
        "import numpy as np\n",
        "\n",
        "def sigmoid(x):\n",
        "    return 1 / (1 + np.exp(-x))\n",
        "\n",
        "def sigmoid_derivative(x):\n",
        "    return x * (1 - x)\n",
        "\n",
        "def mse(y_true, y_pred):\n",
        "    return np.mean((y_true - y_pred) ** 2)\n",
        "\n",
        "x_train = np.array([[0.1, 0.2], [0.2, 0.3], [0.3, 0.4], [0.6, 0.7], [0.7, 0.8], [0.8, 0.9]])\n",
        "y_train = np.array([[0.3432], [0.3490], [0.3548], [0.3720], [0.3776], [0.3832]])\n",
        "\n",
        "x_test = np.array([[0.4, 0.5], [0.5, 0.6]])\n",
        "y_test = np.array([[0.3606], [0.3663]])\n",
        "\n",
        "input_size = 2\n",
        "hidden_size = 4\n",
        "output_size = 1\n",
        "learning_rate = 0.1\n",
        "epochs = 5000\n",
        "\n",
        "np.random.seed(42)\n",
        "w1 = np.random.randn(input_size, hidden_size)\n",
        "b1 = np.zeros((1, hidden_size))\n",
        "w2 = np.random.randn(hidden_size, output_size)\n",
        "b2 = np.zeros((1, output_size))\n",
        "\n",
        "for epoch in range(epochs):\n",
        "\n",
        "    z1 = np.dot(x_train, w1) + b1\n",
        "    a1 = sigmoid(z1)\n",
        "    z2 = np.dot(a1, w2) + b2\n",
        "    y_pred = z2\n",
        "\n",
        "    loss = mse(y_train, y_pred)\n",
        "\n",
        "    d_loss_y_pred = -2 * (y_train - y_pred) / y_train.shape[0]\n",
        "    d_y_pred_z2 = np.ones_like(y_pred)\n",
        "    d_loss_z2 = d_loss_y_pred * d_y_pred_z2\n",
        "    d_loss_w2 = np.dot(a1.T, d_loss_z2)\n",
        "    d_loss_b2 = np.sum(d_loss_z2, axis=0, keepdims=True)\n",
        "\n",
        "    d_loss_a1 = np.dot(d_loss_z2, w2.T)\n",
        "    d_a1_z1 = sigmoid_derivative(a1)\n",
        "    d_loss_z1 = d_loss_a1 * d_a1_z1\n",
        "    d_loss_w1 = np.dot(x_train.T, d_loss_z1)\n",
        "    d_loss_b1 = np.sum(d_loss_z1, axis=0, keepdims=True)\n",
        "\n",
        "    w1 -= learning_rate * d_loss_w1\n",
        "    b1 -= learning_rate * d_loss_b1\n",
        "    w2 -= learning_rate * d_loss_w2\n",
        "    b2 -= learning_rate * d_loss_b2\n",
        "\n",
        "    if epoch % 1000 == 0:\n",
        "        print(f\"Epoch {epoch}, Loss: {loss:.6f}\")\n",
        "\n",
        "y_train_pred = np.dot(sigmoid(np.dot(x_train, w1) + b1), w2) + b2\n",
        "y_test_pred = np.dot(sigmoid(np.dot(x_test, w1) + b1), w2) + b2\n",
        "\n",
        "print(\"Training MSE:\", mse(y_train, y_train_pred))\n",
        "print(\"Testing MSE:\", mse(y_test, y_test_pred))\n",
        "\n",
        "def predict():\n",
        "    x1, x2 = map(float, input(\"Enter values for x1 and x2: \").split())\n",
        "    x_input = np.array([[x1, x2]])\n",
        "    output = np.dot(sigmoid(np.dot(x_input, w1) + b1), w2) + b2\n",
        "    print(f\"Predicted output: {output[0][0]:.4f}\")\n",
        "\n",
        "predict()"
      ],
      "metadata": {
        "colab": {
          "base_uri": "https://localhost:8080/"
        },
        "id": "mOfU_UDhOF_s",
        "outputId": "7dd73154-781a-4530-b672-d318cbd3a0e2"
      },
      "execution_count": 31,
      "outputs": [
        {
          "output_type": "stream",
          "name": "stdout",
          "text": [
            "Epoch 0, Loss: 1.125008\n",
            "Epoch 1000, Loss: 0.000007\n",
            "Epoch 2000, Loss: 0.000002\n",
            "Epoch 3000, Loss: 0.000002\n",
            "Epoch 4000, Loss: 0.000002\n",
            "Training MSE: 1.7500881778892713e-06\n",
            "Testing MSE: 4.7595392210590405e-06\n",
            "Enter values for x1 and x2: 0.5 0.6\n",
            "Predicted output: 0.3685\n"
          ]
        }
      ]
    }
  ]
}
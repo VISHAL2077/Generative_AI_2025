{
  "nbformat": 4,
  "nbformat_minor": 0,
  "metadata": {
    "colab": {
      "provenance": [],
      "mount_file_id": "10Jag47tGV9ho9ieCvKTZcmQl2nOB9bzD",
      "authorship_tag": "ABX9TyM5FdG+xCj6mnj3FQa95xsc",
      "include_colab_link": true
    },
    "kernelspec": {
      "name": "python3",
      "display_name": "Python 3"
    },
    "language_info": {
      "name": "python"
    }
  },
  "cells": [
    {
      "cell_type": "markdown",
      "metadata": {
        "id": "view-in-github",
        "colab_type": "text"
      },
      "source": [
        "<a href=\"https://colab.research.google.com/github/VISHAL2077/Generative_AI_2025/blob/main/2023a52077_week3_assignment3.ipynb\" target=\"_parent\"><img src=\"https://colab.research.google.com/assets/colab-badge.svg\" alt=\"Open In Colab\"/></a>"
      ]
    },
    {
      "cell_type": "code",
      "source": [
        "import numpy as np\n",
        "\n",
        "def f(x):\n",
        "    return 5 * x**4 + 3 * x**2 + 10\n",
        "\n",
        "def f_derivative(x):\n",
        "    return 20 * x**3 + 6 * x\n",
        "\n",
        "def gradient_descent(starting_x, learning_rate, num_iterations):\n",
        "    x = starting_x\n",
        "    for _ in range(num_iterations):\n",
        "        grad = f_derivative(x)\n",
        "        x -= learning_rate * grad\n",
        "    return x\n",
        "\n",
        "starting_x = 0.0\n",
        "learning_rate = 0.01\n",
        "num_iterations = 1000\n",
        "\n",
        "min_x = gradient_descent(starting_x, learning_rate, num_iterations)\n",
        "print(\"Value of x at which the f(x) has minimum value:\", min_x)\n",
        "print(\"Minimum value of the f(x) at this x:\", f(min_x))"
      ],
      "metadata": {
        "colab": {
          "base_uri": "https://localhost:8080/"
        },
        "id": "VRWQinpdHQIa",
        "outputId": "2ded553c-fc0e-4c41-b5aa-ca824e723af7"
      },
      "execution_count": 14,
      "outputs": [
        {
          "output_type": "stream",
          "name": "stdout",
          "text": [
            "Value of x at which the f(x) has minimum value: 0.0\n",
            "Minimum value of the f(x) at this x: 10.0\n"
          ]
        }
      ]
    },
    {
      "cell_type": "code",
      "source": [
        "import numpy as np\n",
        "\n",
        "def g(x, y):\n",
        "    return 3 * x**2 + 5 * np.exp(-y) + 10\n",
        "\n",
        "def g_derivative_x(x):\n",
        "    return 6 * x\n",
        "\n",
        "def g_derivative_y(y):\n",
        "    return -5 * np.exp(-y)\n",
        "\n",
        "def gradient_descent(starting_x, starting_y, learning_rate, num_iterations):\n",
        "    x = starting_x\n",
        "    y = starting_y\n",
        "    for _ in range(num_iterations):\n",
        "        grad_x = g_derivative_x(x)\n",
        "        grad_y = g_derivative_y(y)\n",
        "        x -= learning_rate * grad_x\n",
        "        y -= learning_rate * grad_y\n",
        "    return x, y\n",
        "\n",
        "starting_x = 0.0\n",
        "starting_y = 0.0\n",
        "learning_rate = 0.1\n",
        "num_iterations = 1000\n",
        "\n",
        "min_x, min_y = gradient_descent(starting_x, starting_y, learning_rate, num_iterations)\n",
        "print(\"Value of x at which the function has minimum value:\", min_x)\n",
        "print(\"Value of y at which the function has minimum value:\", min_y)\n",
        "print(\"Minimum value of the function at this (x, y):\", g(min_x, min_y))"
      ],
      "metadata": {
        "colab": {
          "base_uri": "https://localhost:8080/"
        },
        "id": "3uquqecZJCOL",
        "outputId": "0577da7b-b157-4fbb-b847-876a8a60cdc3"
      },
      "execution_count": 16,
      "outputs": [
        {
          "output_type": "stream",
          "name": "stdout",
          "text": [
            "Value of x at which the function has minimum value: 0.0\n",
            "Value of y at which the function has minimum value: 6.21980920407898\n",
            "Minimum value of the function at this (x, y): 10.00994812396674\n"
          ]
        }
      ]
    },
    {
      "cell_type": "code",
      "source": [
        "import numpy as np\n",
        "\n",
        "def sigmoid(x):\n",
        "    return 1 / (1 + np.exp(-x))\n",
        "\n",
        "def sigmoid_derivative(x):\n",
        "    s = sigmoid(x)\n",
        "    return s * (1 - s)\n",
        "\n",
        "def gradient_descent(starting_x, learning_rate, num_iterations):\n",
        "    x = starting_x\n",
        "    for _ in range(num_iterations):\n",
        "        grad = sigmoid_derivative(x)\n",
        "        x -= learning_rate * grad\n",
        "    return x\n",
        "\n",
        "starting_x = 0.0\n",
        "learning_rate = 0.1\n",
        "num_iterations = 1000\n",
        "\n",
        "min_x = gradient_descent(starting_x, learning_rate, num_iterations)\n",
        "print(\"Value of x at which the sigmoid function has minimum value:\", min_x)\n",
        "print(\"Minimum value of the sigmoid function at this x:\", sigmoid(min_x))"
      ],
      "metadata": {
        "colab": {
          "base_uri": "https://localhost:8080/"
        },
        "id": "BOfqbTAqGL6T",
        "outputId": "9385b8a5-2ada-4209-952f-a33552a91a5b"
      },
      "execution_count": 12,
      "outputs": [
        {
          "output_type": "stream",
          "name": "stdout",
          "text": [
            "Value of x at which the sigmoid function has minimum value: -4.512436490262131\n",
            "Minimum value of the sigmoid function at this x: 0.010852623477864686\n"
          ]
        }
      ]
    },
    {
      "cell_type": "code",
      "source": [
        "def minimize_se(alpha=0.01, tol=1e-6, max_iter=10000):\n",
        "    M, C = 0.0, 0.0  # initial guesses\n",
        "    input_val = 2.0\n",
        "    expected_output = 0.5\n",
        "\n",
        "    for _ in range(max_iter):\n",
        "        predicted_output = M * input_val + C\n",
        "        error = expected_output - predicted_output\n",
        "        grad_M = -2 * error * input_val\n",
        "        grad_C = -2 * error\n",
        "\n",
        "        new_M = M - alpha * grad_M\n",
        "        new_C = C - alpha * grad_C\n",
        "\n",
        "        if abs(new_M - M) < tol and abs(new_C - C) < tol:\n",
        "            break\n",
        "\n",
        "        M, C = new_M, new_C\n",
        "\n",
        "    return M, C\n",
        "\n",
        "M_opt, C_opt = minimize_se()\n",
        "print(f\"Optimal values: M = {M_opt}, C = {C_opt}\")"
      ],
      "metadata": {
        "colab": {
          "base_uri": "https://localhost:8080/"
        },
        "id": "BM6G5XUyLp6L",
        "outputId": "5864dc31-e54a-41fd-a032-60e4b00625bc"
      },
      "execution_count": 18,
      "outputs": [
        {
          "output_type": "stream",
          "name": "stdout",
          "text": [
            "Optimal values: M = 0.1999900040083894, C = 0.0999950020041947\n"
          ]
        }
      ]
    }
  ]
}
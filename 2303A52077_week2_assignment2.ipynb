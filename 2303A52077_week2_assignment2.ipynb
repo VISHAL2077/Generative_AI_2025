{
  "nbformat": 4,
  "nbformat_minor": 0,
  "metadata": {
    "colab": {
      "provenance": [],
      "authorship_tag": "ABX9TyPTsj8DIRDNVSceUOS8ObQ3",
      "include_colab_link": true
    },
    "kernelspec": {
      "name": "python3",
      "display_name": "Python 3"
    },
    "language_info": {
      "name": "python"
    }
  },
  "cells": [
    {
      "cell_type": "markdown",
      "metadata": {
        "id": "view-in-github",
        "colab_type": "text"
      },
      "source": [
        "<a href=\"https://colab.research.google.com/github/VISHAL2077/Generative_AI_2025/blob/main/2303A52077_week2_assignment2.ipynb\" target=\"_parent\"><img src=\"https://colab.research.google.com/assets/colab-badge.svg\" alt=\"Open In Colab\"/></a>"
      ]
    },
    {
      "cell_type": "code",
      "source": [
        "from scipy.optimize import linprog\n",
        "\n",
        "c = [-6, -5]\n",
        "A = [[1, 1], [3, 2]]\n",
        "b = [5, 12]\n",
        "\n",
        "bounds = [(0, None), (0, None)]\n",
        "\n",
        "result = linprog(c, A_ub=A, b_ub=b, bounds=bounds)\n",
        "\n",
        "print(\"Optimal Solution:\")\n",
        "print(\"Number of units of A:\", round(result.x[0]))\n",
        "print(\"Number of units of B:\", round(result.x[1]))\n",
        "print(\"Maximum profit:\", -round(result.fun))"
      ],
      "metadata": {
        "colab": {
          "base_uri": "https://localhost:8080/"
        },
        "id": "R93EWGlq_AaC",
        "outputId": "ba456d2f-0e8c-4aec-87b7-7d3c85c1fe35"
      },
      "execution_count": 8,
      "outputs": [
        {
          "output_type": "stream",
          "name": "stdout",
          "text": [
            "Optimal Solution:\n",
            "Number of units of A: 2\n",
            "Number of units of B: 3\n",
            "Maximum profit: 27\n"
          ]
        }
      ]
    },
    {
      "cell_type": "code",
      "source": [
        "import pulp\n",
        "\n",
        "model = pulp.LpProblem(\"Farmer_Profit_Maximization\", pulp.LpMaximize)\n",
        "\n",
        "x1 = pulp.LpVariable(\"Wheat\", lowBound=0)\n",
        "x2 = pulp.LpVariable(\"Barley\", lowBound=0)\n",
        "\n",
        "model += 50*x1 + 120*x2, \"Total Profit\"\n",
        "\n",
        "model += x1 + x2 <= 110, \"Land Constraint\"\n",
        "model += 7000*x1 + 2000*x2 <= 700000, \"Budget Constraint\"\n",
        "model += 10*x1 + 30*x2 <= 1200, \"Labor Constraint\"\n",
        "\n",
        "model.solve()\n",
        "\n",
        "print(\"Status:\", pulp.LpStatus[model.status])\n",
        "print(\"Optimal Solution:\")\n",
        "print(\"Wheat:\", x1.varValue, \"hectares\")\n",
        "print(\"Barley:\", x2.varValue, \"hectares\")\n",
        "print(\"Total Profit:\", pulp.value(model.objective))"
      ],
      "metadata": {
        "colab": {
          "base_uri": "https://localhost:8080/"
        },
        "id": "sQj_RrJX_pcn",
        "outputId": "533485af-817e-4c08-ccdb-41c2f1d40aa5"
      },
      "execution_count": 7,
      "outputs": [
        {
          "output_type": "stream",
          "name": "stdout",
          "text": [
            "Status: Optimal\n",
            "Optimal Solution:\n",
            "Wheat: 97.894737 hectares\n",
            "Barley: 7.3684211 hectares\n",
            "Total Profit: 5778.947382\n"
          ]
        }
      ]
    }
  ]
}
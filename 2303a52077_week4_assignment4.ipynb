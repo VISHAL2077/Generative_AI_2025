{
  "nbformat": 4,
  "nbformat_minor": 0,
  "metadata": {
    "colab": {
      "provenance": [],
      "authorship_tag": "ABX9TyNaY8iqZ8qY+giUGIgZa8Rj",
      "include_colab_link": true
    },
    "kernelspec": {
      "name": "python3",
      "display_name": "Python 3"
    },
    "language_info": {
      "name": "python"
    }
  },
  "cells": [
    {
      "cell_type": "markdown",
      "metadata": {
        "id": "view-in-github",
        "colab_type": "text"
      },
      "source": [
        "<a href=\"https://colab.research.google.com/github/VISHAL2077/Generative_AI_2025/blob/main/2303a52077_week4_assignment4.ipynb\" target=\"_parent\"><img src=\"https://colab.research.google.com/assets/colab-badge.svg\" alt=\"Open In Colab\"/></a>"
      ]
    },
    {
      "cell_type": "code",
      "execution_count": 25,
      "metadata": {
        "id": "zq_Br83wBKqt"
      },
      "outputs": [],
      "source": [
        "#Question 1\n",
        "import numpy as np\n",
        "import pandas as pd\n",
        "\n",
        "data = pd.DataFrame({\n",
        "    'x1': [0.1, 0.2, 0.3, 0.5, 0.1, 0.2, 0.3, 0.4, 0.5],\n",
        "    'x2': [0.2, 0.3, 0.4, 0.6, 0.3, 0.4, 0.5, 0.6, 0.7],\n",
        "    'x3': [0.3, 0.4, 0.5, 0.7, 0.5, 0.6, 0.7, 0.8, 0.1],\n",
        "    'y':  [0.14, 0.20, 0.26, 0.38, 0.22, 0.28, 0.34, 0.40, 0.22]\n",
        "})\n",
        "\n",
        "X_train = data[['x1', 'x2', 'x3']].values\n",
        "y_train = data[['y']].values\n",
        "\n",
        "weights = np.random.rand(3, 1)\n",
        "bias = np.random.rand()\n",
        "learning_rate = 0.01\n",
        "epochs = 1000\n",
        "\n",
        "for epoch in range(epochs):\n",
        "    predictions = np.dot(X_train, weights) + bias\n",
        "    error = predictions - y_train\n",
        "    gradient_w = np.dot(X_train.T, error) / len(y_train)\n",
        "    gradient_b = np.mean(error)\n",
        "    weights -= learning_rate * gradient_w\n",
        "    bias -= learning_rate * gradient_b\n",
        "\n"
      ]
    },
    {
      "cell_type": "code",
      "source": [
        "test_data = pd.DataFrame({\n",
        "    'x1': [0.6, 0.7],\n",
        "    'x2': [0.7, 0.8],\n",
        "    'x3': [0.8, 0.9],\n",
        "    'y':  [0.44, 0.50]\n",
        "})\n",
        "\n",
        "X_test = test_data[['x1', 'x2', 'x3']].values\n",
        "y_test = test_data[['y']].values\n",
        "\n",
        "y_pred_train = np.dot(X_train, weights) + bias\n",
        "y_pred_test = np.dot(X_test, weights) + bias\n",
        "\n",
        "\n",
        "mse_train = np.mean((y_pred_train - y_train) ** 2)\n",
        "mse_test = np.mean((y_pred_test - y_test) ** 2)\n",
        "\n",
        "print(mse_train, mse_test)\n"
      ],
      "metadata": {
        "colab": {
          "base_uri": "https://localhost:8080/"
        },
        "id": "YibrtG7HC_x0",
        "outputId": "f35ebff4-e897-4ef2-9f5d-8d79311225c5"
      },
      "execution_count": 26,
      "outputs": [
        {
          "output_type": "stream",
          "name": "stdout",
          "text": [
            "0.001523043389772017 0.007011363944243459\n"
          ]
        }
      ]
    },
    {
      "cell_type": "code",
      "source": [
        "x_input = pd.DataFrame([[float(input()) for _ in range(3)]])\n",
        "y_output = np.dot(x_input, weights) + bias\n",
        "print(y_output[0][0])\n"
      ],
      "metadata": {
        "colab": {
          "base_uri": "https://localhost:8080/"
        },
        "id": "wVGmuSo9DGjA",
        "outputId": "f384832f-44ef-4ecf-99b4-d974986f7986"
      },
      "execution_count": 27,
      "outputs": [
        {
          "output_type": "stream",
          "name": "stdout",
          "text": [
            "0.6\n",
            "0.7\n",
            "0.8\n",
            "0.3702474535996724\n"
          ]
        }
      ]
    },
    {
      "cell_type": "code",
      "source": [
        "#Question 2\n",
        "def sigmoid(x):\n",
        "    return 1 / (1 + np.exp(-x))\n",
        "\n",
        "data = pd.DataFrame({\n",
        "    'x1': [0.1, 0.2, 0.3, 0.5, 0.1, 0.2, 0.3, 0.4, 0.5],\n",
        "    'x2': [0.2, 0.3, 0.4, 0.6, 0.3, 0.4, 0.5, 0.6, 0.7],\n",
        "    'x3': [0.3, 0.4, 0.5, 0.7, 0.5, 0.6, 0.7, 0.8, 0.1],\n",
        "    'y':  [0.5349, 0.5498, 0.5646, 0.5939, 0.5548, 0.5695, 0.5842, 0.5987, 0.5548]\n",
        "})\n",
        "\n",
        "X_train = data[['x1', 'x2', 'x3']].values\n",
        "y_train = data[['y']].values\n",
        "\n",
        "weights = np.random.rand(3, 1)\n",
        "bias = np.random.rand(1)\n",
        "learning_rate = 0.01\n",
        "epochs = 1000\n",
        "\n",
        "for epoch in range(epochs):\n",
        "    predictions = sigmoid(np.dot(X_train, weights) + bias)\n",
        "    error = predictions - y_train\n",
        "    gradient_w = np.dot(X_train.T, error * predictions * (1 - predictions)) / len(y_train)\n",
        "    gradient_b = np.mean(error * predictions * (1 - predictions))\n",
        "    weights -= learning_rate * gradient_w\n",
        "    bias -= learning_rate * gradient_b\n"
      ],
      "metadata": {
        "id": "0TkgIXa8Dt5r"
      },
      "execution_count": 20,
      "outputs": []
    },
    {
      "cell_type": "code",
      "source": [
        "test_data = pd.DataFrame({\n",
        "    'x1': [0.6, 0.7],\n",
        "    'x2': [0.7, 0.8],\n",
        "    'x3': [0.8, 0.9],\n",
        "    'y':  [0.6083, 0.6225]\n",
        "})\n",
        "\n",
        "X_test = test_data[['x1', 'x2', 'x3']].values\n",
        "y_test = test_data[['y']].values\n",
        "\n",
        "y_pred_train = sigmoid(np.dot(X_train, weights) + bias)\n",
        "y_pred_test = sigmoid(np.dot(X_test, weights) + bias)\n",
        "\n",
        "mse_train = np.mean((y_pred_train - y_train) ** 2)\n",
        "mse_test = np.mean((y_pred_test - y_test) ** 2)\n",
        "\n",
        "print(mse_train, mse_test)\n"
      ],
      "metadata": {
        "colab": {
          "base_uri": "https://localhost:8080/"
        },
        "id": "AJXhzrRuEwDR",
        "outputId": "6bda9ab5-c6ac-41b8-f125-3d77057b7ffa"
      },
      "execution_count": 21,
      "outputs": [
        {
          "output_type": "stream",
          "name": "stdout",
          "text": [
            "0.0005011869170955676 5.9375053440039455e-05\n"
          ]
        }
      ]
    },
    {
      "cell_type": "code",
      "source": [
        "x_input = pd.DataFrame([[float(input()) for _ in range(3)]])\n",
        "y_output = sigmoid(np.dot(x_input, weights) + bias)\n",
        "print(y_output[0][0])\n"
      ],
      "metadata": {
        "colab": {
          "base_uri": "https://localhost:8080/"
        },
        "id": "7uK3iYetEzOt",
        "outputId": "d7fb25b9-c923-408b-e47f-ae04829b6a93"
      },
      "execution_count": 12,
      "outputs": [
        {
          "output_type": "stream",
          "name": "stdout",
          "text": [
            "0.6\n",
            "0.7\n",
            "0.8\n",
            "0.790166467347354\n"
          ]
        }
      ]
    }
  ]
}
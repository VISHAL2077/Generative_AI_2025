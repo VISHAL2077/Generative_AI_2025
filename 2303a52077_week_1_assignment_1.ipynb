{
  "nbformat": 4,
  "nbformat_minor": 0,
  "metadata": {
    "colab": {
      "provenance": [],
      "authorship_tag": "ABX9TyNTjfMSyuK21CT+lDzYTZca",
      "include_colab_link": true
    },
    "kernelspec": {
      "name": "python3",
      "display_name": "Python 3"
    },
    "language_info": {
      "name": "python"
    }
  },
  "cells": [
    {
      "cell_type": "markdown",
      "metadata": {
        "id": "view-in-github",
        "colab_type": "text"
      },
      "source": [
        "<a href=\"https://colab.research.google.com/github/VISHAL2077/Generative_AI_2025/blob/main/2303a52077_week_1_assignment_1.ipynb\" target=\"_parent\"><img src=\"https://colab.research.google.com/assets/colab-badge.svg\" alt=\"Open In Colab\"/></a>"
      ]
    },
    {
      "cell_type": "code",
      "execution_count": 10,
      "metadata": {
        "id": "HaublN5Ij2ki",
        "colab": {
          "base_uri": "https://localhost:8080/"
        },
        "outputId": "43594d6b-1489-48f8-f1be-0997b4f4c19e"
      },
      "outputs": [
        {
          "output_type": "stream",
          "name": "stdout",
          "text": [
            "Metrics calculated from scratch:\n",
            "Mean Absolute Error (MAE): 0.4600000000000016\n",
            "Mean Squared Error (MSE): 0.24600000000000147\n",
            "Root Mean Squared Error (RMSE): 0.49598387070549127\n",
            "\n",
            "Metrics calculated using libraries:\n",
            "Mean Absolute Error (MAE): 0.4600000000000016\n",
            "Mean Squared Error (MSE): 0.24600000000000147\n",
            "Root Mean Squared Error (RMSE): 0.49598387070549127\n"
          ]
        }
      ],
      "source": [
        "import numpy as np\n",
        "from sklearn.metrics import mean_absolute_error, mean_squared_error\n",
        "\n",
        "Y_actual = [20, 30, 40, 50, 60]\n",
        "Y_pred = [20.5, 30.3, 40.2, 50.6, 60.7]\n",
        "\n",
        "def calculate_metrics(y_actual, y_pred):\n",
        "    n = len(y_actual)\n",
        "    absolute_errors = [abs(y_a - y_p) for y_a, y_p in zip(y_actual, y_pred)]\n",
        "    squared_errors = [(y_a - y_p) ** 2 for y_a, y_p in zip(y_actual, y_pred)]\n",
        "\n",
        "    mae = sum(absolute_errors) / n\n",
        "    mse = sum(squared_errors) / n\n",
        "    rmse = mse ** 0.5\n",
        "\n",
        "    return mae, mse, rmse\n",
        "\n",
        "mae_scratch, mse_scratch, rmse_scratch = calculate_metrics(Y_actual, Y_pred)\n",
        "\n",
        "mae_library = mean_absolute_error(Y_actual, Y_pred)\n",
        "mse_library = mean_squared_error(Y_actual, Y_pred)\n",
        "rmse_library = mean_squared_error(Y_actual, Y_pred) ** 0.5\n",
        "\n",
        "print(\"Metrics calculated from scratch:\")\n",
        "print(f\"Mean Absolute Error (MAE): {mae_scratch}\")\n",
        "print(f\"Mean Squared Error (MSE): {mse_scratch}\")\n",
        "print(f\"Root Mean Squared Error (RMSE): {rmse_scratch}\")\n",
        "\n",
        "print(\"\\nMetrics calculated using libraries:\")\n",
        "print(f\"Mean Absolute Error (MAE): {mae_library}\")\n",
        "print(f\"Mean Squared Error (MSE): {mse_library}\")\n",
        "print(f\"Root Mean Squared Error (RMSE): {rmse_library}\")\n",
        "\n"
      ]
    },
    {
      "cell_type": "code",
      "source": [
        "import numpy as np\n",
        "from sklearn.metrics import confusion_matrix, accuracy_score, precision_score, recall_score, f1_score\n",
        "\n",
        "Y_actual = [0, 0, 0, 0, 0, 1, 1, 1, 1, 1, 2, 2, 2, 2, 2]\n",
        "Y_pred = [0, 0, 1, 2, 2, 1, 0, 2, 0, 2, 0, 0, 1, 2, 2]\n",
        "\n",
        "def calculate_confusion_matrix(y_actual, y_pred, classes):\n",
        "    matrix = np.zeros((len(classes), len(classes)), dtype=int)\n",
        "    for a, p in zip(y_actual, y_pred):\n",
        "        matrix[classes.index(a)][classes.index(p)] += 1\n",
        "    return matrix\n",
        "\n",
        "classes = sorted(set(Y_actual))\n",
        "\n",
        "conf_matrix_scratch = calculate_confusion_matrix(Y_actual, Y_pred, classes)\n",
        "\n",
        "conf_matrix_library = confusion_matrix(Y_actual, Y_pred)\n",
        "\n",
        "def calculate_evaluation_metrics(y_actual, y_pred):\n",
        "    unique_classes = set(y_actual)\n",
        "    n = len(y_actual)\n",
        "\n",
        "    true_positives = {cls: 0 for cls in unique_classes}\n",
        "    false_positives = {cls: 0 for cls in unique_classes}\n",
        "    false_negatives = {cls: 0 for cls in unique_classes}\n",
        "\n",
        "    for i in range(n):\n",
        "        if y_actual[i] == y_pred[i]:\n",
        "            true_positives[y_actual[i]] += 1\n",
        "        else:\n",
        "            false_positives[y_pred[i]] += 1\n",
        "            false_negatives[y_actual[i]] += 1\n",
        "\n",
        "    precision = {cls: true_positives[cls] / (true_positives[cls] + false_positives[cls]) if true_positives[cls] + false_positives[cls] > 0 else 0 for cls in unique_classes}\n",
        "    recall = {cls: true_positives[cls] / (true_positives[cls] + false_negatives[cls]) if true_positives[cls] + false_negatives[cls] > 0 else 0 for cls in unique_classes}\n",
        "    f1 = {cls: 2 * (precision[cls] * recall[cls]) / (precision[cls] + recall[cls]) if precision[cls] + recall[cls] > 0 else 0 for cls in unique_classes}\n",
        "\n",
        "    accuracy = sum(1 for i in range(n) if y_actual[i] == y_pred[i]) / n\n",
        "\n",
        "    return accuracy, precision, recall, f1\n",
        "\n",
        "accuracy_scratch, precision_scratch, recall_scratch, f1_scratch = calculate_evaluation_metrics(Y_actual, Y_pred)\n",
        "\n",
        "accuracy_lib = accuracy_score(Y_actual, Y_pred)\n",
        "precision_lib = precision_score(Y_actual, Y_pred, average=None)\n",
        "recall_lib = recall_score(Y_actual, Y_pred, average=None)\n",
        "f1_lib = f1_score(Y_actual, Y_pred, average=None)\n",
        "\n",
        "print(\"Confusion Matrix (from scratch):\")\n",
        "print(conf_matrix_scratch)\n",
        "\n",
        "print(\"\\nConfusion Matrix (using library):\")\n",
        "print(conf_matrix_library)\n",
        "\n",
        "print(\"\\nMetrics calculated from scratch:\")\n",
        "print(f\"Accuracy: {accuracy_scratch}\")\n",
        "print(f\"Precision per class: {precision_scratch}\")\n",
        "print(f\"Recall per class: {recall_scratch}\")\n",
        "print(f\"F1-score per class: {f1_scratch}\")\n",
        "\n",
        "print(\"\\nMetrics calculated using libraries:\")\n",
        "print(f\"Accuracy: {accuracy_lib}\")\n",
        "print(f\"Precision per class: {list(precision_lib)}\")\n",
        "print(f\"Recall per class: {list(recall_lib)}\")\n",
        "print(f\"F1-score per class: {list(f1_lib)}\")\n"
      ],
      "metadata": {
        "colab": {
          "base_uri": "https://localhost:8080/"
        },
        "id": "scaENjrYBan9",
        "outputId": "5b452f6d-f2aa-4095-c79a-8e2267aea85c"
      },
      "execution_count": 14,
      "outputs": [
        {
          "output_type": "stream",
          "name": "stdout",
          "text": [
            "Confusion Matrix (from scratch):\n",
            "[[2 1 2]\n",
            " [2 1 2]\n",
            " [2 1 2]]\n",
            "\n",
            "Confusion Matrix (using library):\n",
            "[[2 1 2]\n",
            " [2 1 2]\n",
            " [2 1 2]]\n",
            "\n",
            "Metrics calculated from scratch:\n",
            "Accuracy: 0.3333333333333333\n",
            "Precision per class: {0: 0.3333333333333333, 1: 0.3333333333333333, 2: 0.3333333333333333}\n",
            "Recall per class: {0: 0.4, 1: 0.2, 2: 0.4}\n",
            "F1-score per class: {0: 0.3636363636363636, 1: 0.25, 2: 0.3636363636363636}\n",
            "\n",
            "Metrics calculated using libraries:\n",
            "Accuracy: 0.3333333333333333\n",
            "Precision per class: [0.3333333333333333, 0.3333333333333333, 0.3333333333333333]\n",
            "Recall per class: [0.4, 0.2, 0.4]\n",
            "F1-score per class: [0.36363636363636365, 0.25, 0.36363636363636365]\n"
          ]
        }
      ]
    }
  ]
}